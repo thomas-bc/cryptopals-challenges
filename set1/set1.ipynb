{
 "cells": [
  {
   "cell_type": "code",
   "execution_count": 1,
   "metadata": {},
   "outputs": [],
   "source": [
    "import codecs\n",
    "from binascii import unhexlify\n",
    "import inspect\n",
    "from base64 import b64decode"
   ]
  },
  {
   "cell_type": "code",
   "execution_count": 2,
   "metadata": {},
   "outputs": [],
   "source": [
    "def bxor(str1: bytes, str2: bytes):\n",
    "    L = []\n",
    "    for (el1, el2) in zip(str1, str2):\n",
    "        L.append(el1^el2)\n",
    "\n",
    "    return bytes(L)"
   ]
  },
  {
   "cell_type": "code",
   "execution_count": 3,
   "metadata": {},
   "outputs": [],
   "source": [
    "ascii_text_chars = list(range(97, 122)) + [32]\n",
    "def letter_ratio(input_bytes):\n",
    "    nb_letters = sum([ x in ascii_text_chars for x in input_bytes])\n",
    "    return nb_letters / len(input_bytes)\n",
    "\n",
    "def is_probably_text(input_bytes):\n",
    "    r = letter_ratio(input_bytes)\n",
    "    return True if r>0.7 else False"
   ]
  },
  {
   "cell_type": "code",
   "execution_count": 4,
   "metadata": {},
   "outputs": [],
   "source": [
    "def decode(enc):\n",
    "    '''Decodes monoalphabetic (key unknown)'''\n",
    "    for i in range(2**8): # for every possible key\n",
    "        # converting the key from a number to a byte\n",
    "        candidate_key = i.to_bytes(1, byteorder='big')\n",
    "    #for letter in alph:\n",
    "        decoded_candidate = bxor(codecs.decode(enc, 'hex'), candidate_key*len(enc))\n",
    "        if is_probably_text(decoded_candidate):\n",
    "            return decoded_candidate"
   ]
  },
  {
   "cell_type": "code",
   "execution_count": 5,
   "metadata": {},
   "outputs": [],
   "source": [
    "def keyphrase_encode(string: bytes, keyphrase: bytes):\n",
    "    '''Encodes string with repeating keyphrase'''\n",
    "    key = keyphrase*(len(string)//3) + keyphrase[0:len(string)%3]\n",
    "    return bxor(string, key).hex()\n",
    "\n",
    "def b_edit_dist(str1: bytes, str2: bytes):\n",
    "    return sum(bin(byte).count('1') for byte in bxor(str1,str2))"
   ]
  },
  {
   "cell_type": "code",
   "execution_count": 6,
   "metadata": {},
   "outputs": [],
   "source": [
    "def score_vigenere_key_size(candidate_key_size, ciphertext):\n",
    "    slice_size = 2*candidate_key_size\n",
    "\n",
    "    nb_measurements = len(ciphertext) // slice_size - 1\n",
    "\n",
    "    score = 0\n",
    "    for i in range(nb_measurements):\n",
    "\n",
    "        s = slice_size\n",
    "        k = candidate_key_size\n",
    "        slice_1 = slice(i*s, i*s + k)\n",
    "        slice_2 = slice(i*s + k, i*s + 2*k)\n",
    "\n",
    "        score += b_edit_dist(ciphertext[slice_1], ciphertext[slice_2])\n",
    "\n",
    "    score /= candidate_key_size\n",
    "    score /= nb_measurements\n",
    "    return score"
   ]
  },
  {
   "cell_type": "code",
   "execution_count": 7,
   "metadata": {},
   "outputs": [],
   "source": [
    "def find_key_size(ciphertext, min_=2, max_=40):\n",
    "    '''Finds most probable key size for a ciphertext'''\n",
    "    key = lambda x: score_vigenere_key_size(x, ciphertext)\n",
    "    return min(range(min_, max_), key=key)"
   ]
  },
  {
   "cell_type": "code",
   "execution_count": null,
   "metadata": {},
   "outputs": [],
   "source": []
  }
 ],
 "metadata": {
  "kernelspec": {
   "display_name": "Python 3",
   "language": "python",
   "name": "python3"
  },
  "language_info": {
   "codemirror_mode": {
    "name": "ipython",
    "version": 3
   },
   "file_extension": ".py",
   "mimetype": "text/x-python",
   "name": "python",
   "nbconvert_exporter": "python",
   "pygments_lexer": "ipython3",
   "version": "3.6.3"
  }
 },
 "nbformat": 4,
 "nbformat_minor": 2
}
